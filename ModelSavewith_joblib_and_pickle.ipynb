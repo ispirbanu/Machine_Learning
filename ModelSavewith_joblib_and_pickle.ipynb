{
 "cells": [
  {
   "cell_type": "code",
   "execution_count": 6,
   "id": "f16ef800",
   "metadata": {},
   "outputs": [],
   "source": [
    "import pandas as pd\n",
    "import numpy as np\n",
    "from sklearn import linear_model"
   ]
  },
  {
   "cell_type": "code",
   "execution_count": 42,
   "id": "50e2a260",
   "metadata": {},
   "outputs": [
    {
     "data": {
      "text/html": [
       "<div>\n",
       "<style scoped>\n",
       "    .dataframe tbody tr th:only-of-type {\n",
       "        vertical-align: middle;\n",
       "    }\n",
       "\n",
       "    .dataframe tbody tr th {\n",
       "        vertical-align: top;\n",
       "    }\n",
       "\n",
       "    .dataframe thead th {\n",
       "        text-align: right;\n",
       "    }\n",
       "</style>\n",
       "<table border=\"1\" class=\"dataframe\">\n",
       "  <thead>\n",
       "    <tr style=\"text-align: right;\">\n",
       "      <th></th>\n",
       "      <th>area</th>\n",
       "      <th>price</th>\n",
       "    </tr>\n",
       "  </thead>\n",
       "  <tbody>\n",
       "    <tr>\n",
       "      <th>0</th>\n",
       "      <td>2600</td>\n",
       "      <td>550000</td>\n",
       "    </tr>\n",
       "    <tr>\n",
       "      <th>1</th>\n",
       "      <td>3000</td>\n",
       "      <td>565000</td>\n",
       "    </tr>\n",
       "    <tr>\n",
       "      <th>2</th>\n",
       "      <td>3200</td>\n",
       "      <td>610000</td>\n",
       "    </tr>\n",
       "    <tr>\n",
       "      <th>3</th>\n",
       "      <td>3600</td>\n",
       "      <td>680000</td>\n",
       "    </tr>\n",
       "    <tr>\n",
       "      <th>4</th>\n",
       "      <td>4000</td>\n",
       "      <td>725000</td>\n",
       "    </tr>\n",
       "  </tbody>\n",
       "</table>\n",
       "</div>"
      ],
      "text/plain": [
       "   area   price\n",
       "0  2600  550000\n",
       "1  3000  565000\n",
       "2  3200  610000\n",
       "3  3600  680000\n",
       "4  4000  725000"
      ]
     },
     "execution_count": 42,
     "metadata": {},
     "output_type": "execute_result"
    }
   ],
   "source": [
    "df = pd.read_csv(\"homeprices_video5.csv\",sep=\";\")\n",
    "df.head()"
   ]
  },
  {
   "cell_type": "code",
   "execution_count": 44,
   "id": "e52bc3f9",
   "metadata": {},
   "outputs": [
    {
     "data": {
      "text/plain": [
       "LinearRegression()"
      ]
     },
     "execution_count": 44,
     "metadata": {},
     "output_type": "execute_result"
    }
   ],
   "source": [
    "model= linear_model.LinearRegression()\n",
    "model.fit(df[[\"area\"]],df.price)"
   ]
  },
  {
   "cell_type": "code",
   "execution_count": 45,
   "id": "7f61bf38",
   "metadata": {},
   "outputs": [
    {
     "data": {
      "text/plain": [
       "array([135.78767123])"
      ]
     },
     "execution_count": 45,
     "metadata": {},
     "output_type": "execute_result"
    }
   ],
   "source": [
    "model.coef_"
   ]
  },
  {
   "cell_type": "code",
   "execution_count": 46,
   "id": "4c1f02db",
   "metadata": {},
   "outputs": [
    {
     "data": {
      "text/plain": [
       "180616.43835616432"
      ]
     },
     "execution_count": 46,
     "metadata": {},
     "output_type": "execute_result"
    }
   ],
   "source": [
    "model.intercept_"
   ]
  },
  {
   "cell_type": "code",
   "execution_count": 53,
   "id": "e932b907",
   "metadata": {},
   "outputs": [
    {
     "data": {
      "text/plain": [
       "array([859554.79452055])"
      ]
     },
     "execution_count": 53,
     "metadata": {},
     "output_type": "execute_result"
    }
   ],
   "source": [
    "model.predict([[5000]]) # [[]] parantez önemli"
   ]
  },
  {
   "cell_type": "code",
   "execution_count": 56,
   "id": "e9e0a654",
   "metadata": {},
   "outputs": [],
   "source": [
    "import pickle # bir python nesnesini seri haline getirmeye yarar"
   ]
  },
  {
   "cell_type": "markdown",
   "id": "8a693a14",
   "metadata": {},
   "source": [
    "* Programcıları karmaşık veri türlerini saklamak için kodlamak ve hata ayıklamak ile uğraştırmak yerine Python bu iş için pickle adlı standart modülü sağlar. Bu hayret verici modül neredeyse herhangi bir Python nesnesini (bazı Python kodu biçimlerini bile!) dizge ile ifade edilebilecek hale getirebilir ve bu halinden geri alabilir. Bu dönüşüm ve geri kazanım işlemleri arasında nesne bir dosyaya kaydedilebilir ya da ağ bağlantısı ile uzaktaki başka bir makineye gönderilebilir.\n",
    "\n",
    "\n",
    "\n",
    "* x gibi bir nesneniz ve yazma işlemi için açılmış f gibi bir dosya nesneniz varsa bu nesneyi dosyaya aktarmanız için tek satırlık kod yeterli olur:\n",
    "   pickle.dump(x, f)\n",
    "\n",
    "\n",
    "\n",
    "* Nesneyi geri almak için ise f okumak için açılmış bir dosya nesnesi olsun:\n",
    "    x = pickle.load(f)"
   ]
  },
  {
   "cell_type": "code",
   "execution_count": 61,
   "id": "99654ba1",
   "metadata": {},
   "outputs": [],
   "source": [
    "with open('model_pickle','wb') as f:  #wb write mode b: binary den geliyor?\n",
    "    pickle.dump(model, f)"
   ]
  },
  {
   "attachments": {
    "image.png": {
     "image/png": "[encoded data removed]"
    }
   },
   "cell_type": "markdown",
   "id": "cc94e789",
   "metadata": {},
   "source": [
    "* model bir dosyaya kaydedilir.\n",
    "![image.png](attachment:image.png) "
   ]
  },
  {
   "cell_type": "code",
   "execution_count": 63,
   "id": "235c22ef",
   "metadata": {},
   "outputs": [],
   "source": [
    "with open('model_pickle','rb') as f: \n",
    "    mp=pickle.load(f)"
   ]
  },
  {
   "cell_type": "markdown",
   "id": "1a423b5f",
   "metadata": {},
   "source": [
    "* Tahmin için mp nesnesi kullanılırsa"
   ]
  },
  {
   "cell_type": "code",
   "execution_count": 64,
   "id": "025258af",
   "metadata": {},
   "outputs": [
    {
     "data": {
      "text/plain": [
       "array([859554.79452055])"
      ]
     },
     "execution_count": 64,
     "metadata": {},
     "output_type": "execute_result"
    }
   ],
   "source": [
    "mp.predict([[5000]])"
   ]
  },
  {
   "cell_type": "markdown",
   "id": "aac036ba",
   "metadata": {},
   "source": [
    "* Aynı tahmin sonucu verdiği görülüyor. \n",
    "\n",
    "* model_pickle dosyası eğitilmiş model olarak gönderilebilir.\n",
    "    Bu modele sorular sorulabilir. Buna cevap verecek eğitimli modeldir."
   ]
  },
  {
   "cell_type": "markdown",
   "id": "426668c3",
   "metadata": {},
   "source": [
    "##### modeli kaydetmenin ikinci bir yaklaşımı var; \n",
    "    sklearn model persistence -> joblib\n",
    "* Bu modül sklearn paketinin altında bulunuyor. Doğrudan Scikit-Learn modellerini serileştirmek için tasarlanmış. Diğer nesne serileştirme modüllerine nazaran, büyük Numpy dizilerini daha verimli bir şekilde taşıyor. \n",
    "\n",
    "\n",
    "* Ama dikkat etmeniz gereken bir unsur var: \n",
    "    Bu modül ile modelinizi serileştirip dosyaya kaydettiğinizde, modelin içindeki tüm Numpy dizileri farklı birer dosyaya kaydediliyor. Bu nedenle, modelin içe aktarılabilmesi için tüm dosyaların  aynı klasörde bulunması şart."
   ]
  },
  {
   "cell_type": "markdown",
   "id": "8b3c2f2d",
   "metadata": {},
   "source": [
    "#### Not: pickle ve joblib aynı işi yapıyor. \n",
    "    ikisinin farkı nedir?\n",
    "    \n",
    "* veriler büyük numpy dizilerinden oluşuyorsa o zaman joblib daha avantajlı "
   ]
  },
  {
   "cell_type": "code",
   "execution_count": 68,
   "id": "e9f64108",
   "metadata": {},
   "outputs": [],
   "source": [
    "import joblib as jb"
   ]
  },
  {
   "cell_type": "code",
   "execution_count": 69,
   "id": "fc173051",
   "metadata": {},
   "outputs": [
    {
     "data": {
      "text/plain": [
       "['model_joblib']"
      ]
     },
     "execution_count": 69,
     "metadata": {},
     "output_type": "execute_result"
    }
   ],
   "source": [
    "jb.dump(model,\"model_joblib\")"
   ]
  },
  {
   "attachments": {
    "image.png": {
     "image/png": "[encoded data removed]"
    }
   },
   "cell_type": "markdown",
   "id": "ffd0b12e",
   "metadata": {},
   "source": [
    "Bu da dosya olarak kaydedilir.\n",
    "\n",
    "![image.png](attachment:image.png) "
   ]
  },
  {
   "cell_type": "code",
   "execution_count": 71,
   "id": "0abcb3e3",
   "metadata": {},
   "outputs": [],
   "source": [
    "#model joblib.load() kullanarak yüklenir.\n",
    "mj= jb.load('model_joblib')"
   ]
  },
  {
   "cell_type": "code",
   "execution_count": 72,
   "id": "e910e7f2",
   "metadata": {},
   "outputs": [
    {
     "data": {
      "text/plain": [
       "array([859554.79452055])"
      ]
     },
     "execution_count": 72,
     "metadata": {},
     "output_type": "execute_result"
    }
   ],
   "source": [
    "mj.predict([[5000]])"
   ]
  },
  {
   "cell_type": "markdown",
   "id": "00b4b346",
   "metadata": {},
   "source": [
    "* Bu da eğitilmiş olarak aynı sonucu vermiş olur. \n",
    "\n",
    "\n",
    "* coef_ değerleri de aynı olur.\n",
    "\n",
    "\n",
    "* Yani tüm bu önemli parçalar model için kaydediliyor."
   ]
  },
  {
   "cell_type": "code",
   "execution_count": 73,
   "id": "6554d794",
   "metadata": {},
   "outputs": [
    {
     "data": {
      "text/plain": [
       "array([135.78767123])"
      ]
     },
     "execution_count": 73,
     "metadata": {},
     "output_type": "execute_result"
    }
   ],
   "source": [
    "mj.coef_"
   ]
  },
  {
   "cell_type": "markdown",
   "id": "b5535e11",
   "metadata": {},
   "source": [
    "Bu Model kaydetme yöntemleriyle sadece bu örnekteki gibi lineer regresyon değil diğer yöntemler de kaydedilebilir. "
   ]
  }
 ],
 "metadata": {
  "kernelspec": {
   "display_name": "Python 3 (ipykernel)",
   "language": "python",
   "name": "python3"
  },
  "language_info": {
   "codemirror_mode": {
    "name": "ipython",
    "version": 3
   },
   "file_extension": ".py",
   "mimetype": "text/x-python",
   "name": "python",
   "nbconvert_exporter": "python",
   "pygments_lexer": "ipython3",
   "version": "3.9.7"
  }
 },
 "nbformat": 4,
 "nbformat_minor": 5
}
